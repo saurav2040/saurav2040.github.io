{
 "cells": [
  {
   "cell_type": "raw",
   "id": "1d48290c",
   "metadata": {
    "vscode": {
     "languageId": "raw"
    }
   },
   "source": [
    "---\n",
    "title: Fastai Chapter 2\n",
    "author: Shraey\n",
    "date: 2024-06-17\n",
    "categories: [quarto, blog]\n",
    "description: \"A summary of Chapter 2 from the Fastai book, covering the basics of deep learning and neural networks.\"\n",
    "format:\n",
    "    html:\n",
    "        code-fold: true\n",
    "---"
   ]
  },
  {
   "cell_type": "markdown",
   "id": "965951a7",
   "metadata": {},
   "source": [
    "# Lesson 2 : Deployment"
   ]
  },
  {
   "cell_type": "markdown",
   "id": "0471b1ef",
   "metadata": {},
   "source": [
    "## Todo :\n",
    "\n",
    "- [ ] Watch the lecture once.\n",
    "- [ ] Run the Bear Classifier notebook & figure out how all the pieces fit together.\n",
    "- [ ] Reproduce the Bear classifier model + clean the data + re-train the model\n",
    "- [ ] Deploy the Bear model on HF spaces & try the model \n",
    "- [ ] Read the chapter 2 fastbook\n",
    "    - Review the questionare.\n",
    "    - Read the chapter 2 + **take book notes *using cornell method*.**\n",
    "    - Try to answer the questionare. \n",
    "- [ ] Create another notebook using a different dataset.\n",
    "---\n",
    "- [ ] Watch the lecture again + take lecture notes.\n",
    "- [ ] Finish the \"Questionare + Further research\"\n",
    "- [ ] Finish [AIquizzes](https://aiquizzes.com/knowledgebase) - Lesson 2\n",
    "- [ ] **Learn any concepts/lib used in the lecture**\n",
    "    - a\n",
    "    - b\n",
    "    - Finish Lesson 1 TODOs also\n",
    "---\n",
    "- [ ] Read the Fastai Forum discussion on lesson 2\n",
    "\t- [ ]  Take imp/helpful notes,ideas from discussions.\n",
    "\t- [ ]  Do the homeworks of Radek, Jeremy, Sanyam, Tanishq etc...\n",
    "\n",
    "- [ ] Walk with Fastai Lesson 1 - all 3 parts (optional)\n",
    "- [ ] [Computer vision intro – fastai](https://docs.fast.ai/tutorial.vision.html#classifying-breeds)\n",
    "\t- [ ] Try to recreate these models - without looking at it\n",
    "\t- [ ] Create notebooks but use a different dataset\n",
    "- [ ] ankify notes"
   ]
  },
  {
   "cell_type": "markdown",
   "id": "bb2612bc",
   "metadata": {},
   "source": [
    "## Notebook excercise"
   ]
  },
  {
   "cell_type": "code",
   "execution_count": 1,
   "id": "4f517321",
   "metadata": {},
   "outputs": [],
   "source": [
    "import fastbook\n",
    "fastbook.setup_book()\n",
    "\n",
    "from fastbook import *"
   ]
  },
  {
   "cell_type": "code",
   "execution_count": 2,
   "id": "7883cf40",
   "metadata": {},
   "outputs": [],
   "source": [
    "from fastai.vision.all import *"
   ]
  },
  {
   "cell_type": "code",
   "execution_count": 3,
   "id": "d051e127",
   "metadata": {},
   "outputs": [],
   "source": [
    "from fastcore.all import *"
   ]
  },
  {
   "cell_type": "code",
   "execution_count": null,
   "id": "c8d70b9e",
   "metadata": {},
   "outputs": [],
   "source": []
  },
  {
   "cell_type": "code",
   "execution_count": null,
   "id": "027c138e",
   "metadata": {},
   "outputs": [],
   "source": []
  },
  {
   "cell_type": "code",
   "execution_count": null,
   "id": "23380813",
   "metadata": {},
   "outputs": [],
   "source": []
  },
  {
   "cell_type": "code",
   "execution_count": null,
   "id": "61a3903a",
   "metadata": {},
   "outputs": [],
   "source": []
  },
  {
   "cell_type": "markdown",
   "id": "72ea6836",
   "metadata": {},
   "source": [
    "## Lecture Notes"
   ]
  },
  {
   "cell_type": "markdown",
   "id": "4a55d3a8",
   "metadata": {},
   "source": []
  },
  {
   "cell_type": "markdown",
   "id": "b534bebb",
   "metadata": {},
   "source": []
  },
  {
   "cell_type": "markdown",
   "id": "d8a69663",
   "metadata": {},
   "source": [
    "## Book Notes"
   ]
  },
  {
   "cell_type": "markdown",
   "id": "26ab7c55",
   "metadata": {},
   "source": []
  },
  {
   "cell_type": "markdown",
   "id": "749d3245",
   "metadata": {},
   "source": [
    "### Jargon"
   ]
  },
  {
   "cell_type": "markdown",
   "id": "d62a57c7",
   "metadata": {},
   "source": []
  },
  {
   "cell_type": "markdown",
   "id": "4af3e1cb",
   "metadata": {},
   "source": []
  },
  {
   "cell_type": "markdown",
   "id": "fab7f437",
   "metadata": {},
   "source": [
    "### Questionare"
   ]
  },
  {
   "cell_type": "markdown",
   "id": "4fde03aa",
   "metadata": {},
   "source": [
    "1. Where do text models currently have a major deficiency? \n",
    "\n",
    "    - a\n",
    "    - b\n",
    "    - c\n",
    "    - d\n",
    "---\n",
    "2. What are possible negative societal implications of text generation models?  \n",
    "\n",
    "---\n",
    "3. In situations where a model might make mistakes, and those mistakes could be  harmful, what is a good alternative to automating a process? \n",
    "\n",
    "---\n",
    "4. What kind of tabular data is deep learning particularly good at?  \n",
    "\n",
    "---\n",
    "5. What’s a key downside of directly using a deep learning model for recommendation systems? \n",
    "\n",
    "---\n",
    "6. What are the steps of the Drivetrain Approach? \n",
    "\n",
    "\n",
    "---\n",
    "\n",
    "7. How do the steps of the Drivetrain Approach map to a recommendation system?  \n",
    "\n",
    "\n",
    "---\n",
    "\n",
    "8. Create an image recognition model using data you curate, and deploy it on the  web.  \n",
    "\n",
    "\n",
    "---\n",
    "9. What is `DataLoaders`?  \n",
    "\n",
    "\n",
    "---\n",
    "\n",
    "10. What four things do we need to tell fastai to create `DataLoaders`? \n",
    "\n",
    "\n",
    "---\n",
    "\n",
    "11. What does the `splitter` parameter to `DataBlock` do? \n",
    "\n",
    "\n",
    "---\n",
    "\n",
    "12. How do we ensure a random split always gives the same validation set? \n",
    "\n",
    "\n",
    "---\n",
    "\n",
    "13. What letters are often used to signify the independent and dependent variables?  \n",
    "\n",
    "\n",
    "---\n",
    "\n",
    "\n",
    "14. What’s the difference between the crop, pad, and squish resize approaches? When  might you choose one over the others? \n",
    "\n",
    "\n",
    "---\n",
    "\n",
    "\n",
    "15. What is data augmentation? Why is it needed?  \n",
    "\n",
    "\n",
    "---\n",
    "\n",
    "16. Provide an example of where the bear classification model might work poorly in  production, due to structural or style differences in the training data. \n",
    "\n",
    "\n",
    "---\n",
    "\n",
    "17. What is the difference between `item_tfms` and `batch_tfms`? \n",
    "\n",
    "\n",
    "---\n",
    "\n",
    "18. What is a confusion matrix? \n",
    "\n",
    "\n",
    "---\n",
    "\n",
    "19. What does `export` save?\n",
    "    \n",
    "\n",
    "---\n",
    "20. What is it called when we use a model for making predictions, instead of  training? \n",
    "\n",
    "\n",
    "---\n",
    "\n",
    "21. What are IPython widgets? 22. When would you use a CPU for deployment? When might a GPU be better?  \n",
    "\n",
    "---\n",
    "\n",
    "23. What are the downsides of deploying your app to a server, instead of to a client  (or edge) device such as a phone or PC?  \n",
    "\n",
    "---\n",
    "\n",
    "24. What are three examples of problems that could occur when rolling out a bear  warning system in practice? 25. What is out-of-domain data? \n",
    "\n",
    "---\n",
    "\n",
    "26. What is domain shift? \n",
    "\n",
    "---\n",
    "\n",
    "27. What are the three steps in the deployment process?\n",
    "\n",
    "    - a\n",
    "    - b\n",
    "    - c\n",
    "    \n"
   ]
  },
  {
   "cell_type": "markdown",
   "id": "c9cafadb",
   "metadata": {},
   "source": [
    "### Further Research\n",
    "\n",
    "1. Consider how the Drivetrain Approach maps to a project or problem you’re  interested in. \n",
    "\n",
    "---\n",
    "\n",
    "2. When might it be best to avoid certain types of data augmentation?  \n",
    "\n",
    "---\n",
    "\n",
    "3. For a project you’re interested in applying deep learning to, consider the thought  experiment, “What would happen if it went really, really well?”  \n",
    "\n",
    "---\n",
    "\n",
    "4. Start a blog and write your first blog post. For instance, write about what you  think deep learning might be useful for in a domain you’re interested in."
   ]
  },
  {
   "cell_type": "markdown",
   "id": "72b21c5f",
   "metadata": {},
   "source": []
  },
  {
   "cell_type": "markdown",
   "id": "56b574c6",
   "metadata": {},
   "source": [
    "## Ai quizzes\n",
    "\n",
    "1. [What is the difference between a loss and a metric?](https://aiquizzes.com/questions/10)\n",
    "\n",
    "\n",
    "---\n",
    "\n",
    "2. [Does using a validation set guarantee we will not overfit?](https://aiquizzes.com/questions/11)\n",
    "\n",
    "\n",
    "---\n",
    "\n",
    "3. [Why transfer learning?](https://aiquizzes.com/questions/12)\n",
    "\n",
    "\n",
    "---\n",
    "\n",
    "4. [What is p-value?](https://aiquizzes.com/questions/13)\n",
    "\n",
    "\n",
    "---\n",
    "\n",
    "5. [What do we need to call on a pathlib.Path to delete the file?](https://aiquizzes.com/questions/14)\n",
    "\n",
    "---\n",
    "\n",
    "#### Based on Ch-2 Fastbook\n",
    "\n",
    "1. [When is it easier to clean your data - before or after training? Why?](https://aiquizzes.com/questions/15)\n",
    "\n",
    "\n",
    "\n",
    "---\n",
    "\n",
    "2. [What are two common problems regarding data your model can encounter in prod?](https://aiquizzes.com/questions/16)\n",
    "\n",
    "\n",
    "\n",
    "---\n",
    "\n",
    "3. [Can you collect unbiased data?](https://aiquizzes.com/questions/17)\n",
    "\n",
    "\n",
    "\n",
    "---\n",
    "\n",
    "4. [What are the three steps of a careful deployment strategy?](https://aiquizzes.com/questions/18)\n",
    "\n",
    "\n",
    "\n",
    "---\n",
    "\n",
    "5. [How to improve your model based on new data?](https://aiquizzes.com/questions/19)\n",
    "\n",
    "\n",
    "\n",
    "---\n",
    "\n",
    "6. [What is one of the most challenging things (and why) when deploying ML models?](https://aiquizzes.com/questions/20)\n",
    "\n",
    "\n",
    "\n",
    "---\n",
    "\n",
    "7. [When are you at risk of introducing a feedback loop?](https://aiquizzes.com/questions/21)\n",
    "\n",
    "\n",
    "\n",
    "---\n",
    "\n",
    "8. [What is a very good way to prevent the introduction of feedback loops?](https://aiquizzes.com/questions/22)\n",
    "\n",
    "\n",
    "\n",
    "---\n",
    "\n",
    "9. [Why you should start blogging? (list 3 reasons)](https://aiquizzes.com/questions/23)\n",
    "\n",
    "\n",
    "\n",
    "---\n",
    "\n",
    "10. [What to blog about?](https://aiquizzes.com/questions/24)\n",
    "\n",
    "\n",
    "\n",
    "---\n",
    "\n",
    "11. [Why should you start each project with creating a baseline?](https://aiquizzes.com/questions/25)\n",
    "\n",
    "\n",
    "---"
   ]
  },
  {
   "cell_type": "markdown",
   "id": "509e3b36",
   "metadata": {},
   "source": [
    "## Fastai Forum/Discord \n",
    "\n",
    "- Notes, Experiments, Q&As important / related to this lesson.  "
   ]
  },
  {
   "cell_type": "markdown",
   "id": "73be30c0",
   "metadata": {},
   "source": []
  },
  {
   "cell_type": "markdown",
   "id": "3f2c8c9d",
   "metadata": {},
   "source": []
  },
  {
   "cell_type": "markdown",
   "id": "108efa24",
   "metadata": {},
   "source": [
    "## TILS\n",
    "\n",
    "- Exploring Fastai Docs Tutorials.\n",
    "- Experiments I did.\n",
    "- Learnings/Quirks I had."
   ]
  },
  {
   "cell_type": "markdown",
   "id": "58b7e783",
   "metadata": {},
   "source": []
  },
  {
   "cell_type": "markdown",
   "id": "628d4f76",
   "metadata": {},
   "source": []
  },
  {
   "cell_type": "markdown",
   "id": "e1f81cc9",
   "metadata": {},
   "source": [
    "## Mini Project\n",
    "\n",
    "- Finish a mini-project based on this lesson.\n",
    "    - Kaggle dataset/problem\n",
    "    - Implement Lesson Notebook with different dataset."
   ]
  },
  {
   "cell_type": "markdown",
   "id": "99804503",
   "metadata": {},
   "source": []
  },
  {
   "cell_type": "markdown",
   "id": "20045378",
   "metadata": {},
   "source": []
  }
 ],
 "metadata": {
  "kernelspec": {
   "display_name": "Python (fastai_env)",
   "language": "python",
   "name": "fastai_env"
  },
  "language_info": {
   "codemirror_mode": {
    "name": "ipython",
    "version": 3
   },
   "file_extension": ".py",
   "mimetype": "text/x-python",
   "name": "python",
   "nbconvert_exporter": "python",
   "pygments_lexer": "ipython3",
   "version": "3.12.3"
  }
 },
 "nbformat": 4,
 "nbformat_minor": 5
}
